{
  "nbformat": 4,
  "nbformat_minor": 0,
  "metadata": {
    "colab": {
      "provenance": []
    },
    "kernelspec": {
      "name": "python3",
      "display_name": "Python 3"
    },
    "language_info": {
      "name": "python"
    }
  },
  "cells": [
    {
      "cell_type": "code",
      "execution_count": null,
      "metadata": {
        "colab": {
          "base_uri": "https://localhost:8080/",
          "height": 74
        },
        "id": "_eyHrqDaIyWF",
        "outputId": "cde58c4a-d636-4ac9-d425-6019df8c0d81"
      },
      "outputs": [
        {
          "output_type": "display_data",
          "data": {
            "text/plain": [
              "<IPython.core.display.HTML object>"
            ],
            "text/html": [
              "\n",
              "     <input type=\"file\" id=\"files-bb9a64f9-115f-4771-b314-5576f0984f6d\" name=\"files[]\" multiple disabled\n",
              "        style=\"border:none\" />\n",
              "     <output id=\"result-bb9a64f9-115f-4771-b314-5576f0984f6d\">\n",
              "      Upload widget is only available when the cell has been executed in the\n",
              "      current browser session. Please rerun this cell to enable.\n",
              "      </output>\n",
              "      <script>// Copyright 2017 Google LLC\n",
              "//\n",
              "// Licensed under the Apache License, Version 2.0 (the \"License\");\n",
              "// you may not use this file except in compliance with the License.\n",
              "// You may obtain a copy of the License at\n",
              "//\n",
              "//      http://www.apache.org/licenses/LICENSE-2.0\n",
              "//\n",
              "// Unless required by applicable law or agreed to in writing, software\n",
              "// distributed under the License is distributed on an \"AS IS\" BASIS,\n",
              "// WITHOUT WARRANTIES OR CONDITIONS OF ANY KIND, either express or implied.\n",
              "// See the License for the specific language governing permissions and\n",
              "// limitations under the License.\n",
              "\n",
              "/**\n",
              " * @fileoverview Helpers for google.colab Python module.\n",
              " */\n",
              "(function(scope) {\n",
              "function span(text, styleAttributes = {}) {\n",
              "  const element = document.createElement('span');\n",
              "  element.textContent = text;\n",
              "  for (const key of Object.keys(styleAttributes)) {\n",
              "    element.style[key] = styleAttributes[key];\n",
              "  }\n",
              "  return element;\n",
              "}\n",
              "\n",
              "// Max number of bytes which will be uploaded at a time.\n",
              "const MAX_PAYLOAD_SIZE = 100 * 1024;\n",
              "\n",
              "function _uploadFiles(inputId, outputId) {\n",
              "  const steps = uploadFilesStep(inputId, outputId);\n",
              "  const outputElement = document.getElementById(outputId);\n",
              "  // Cache steps on the outputElement to make it available for the next call\n",
              "  // to uploadFilesContinue from Python.\n",
              "  outputElement.steps = steps;\n",
              "\n",
              "  return _uploadFilesContinue(outputId);\n",
              "}\n",
              "\n",
              "// This is roughly an async generator (not supported in the browser yet),\n",
              "// where there are multiple asynchronous steps and the Python side is going\n",
              "// to poll for completion of each step.\n",
              "// This uses a Promise to block the python side on completion of each step,\n",
              "// then passes the result of the previous step as the input to the next step.\n",
              "function _uploadFilesContinue(outputId) {\n",
              "  const outputElement = document.getElementById(outputId);\n",
              "  const steps = outputElement.steps;\n",
              "\n",
              "  const next = steps.next(outputElement.lastPromiseValue);\n",
              "  return Promise.resolve(next.value.promise).then((value) => {\n",
              "    // Cache the last promise value to make it available to the next\n",
              "    // step of the generator.\n",
              "    outputElement.lastPromiseValue = value;\n",
              "    return next.value.response;\n",
              "  });\n",
              "}\n",
              "\n",
              "/**\n",
              " * Generator function which is called between each async step of the upload\n",
              " * process.\n",
              " * @param {string} inputId Element ID of the input file picker element.\n",
              " * @param {string} outputId Element ID of the output display.\n",
              " * @return {!Iterable<!Object>} Iterable of next steps.\n",
              " */\n",
              "function* uploadFilesStep(inputId, outputId) {\n",
              "  const inputElement = document.getElementById(inputId);\n",
              "  inputElement.disabled = false;\n",
              "\n",
              "  const outputElement = document.getElementById(outputId);\n",
              "  outputElement.innerHTML = '';\n",
              "\n",
              "  const pickedPromise = new Promise((resolve) => {\n",
              "    inputElement.addEventListener('change', (e) => {\n",
              "      resolve(e.target.files);\n",
              "    });\n",
              "  });\n",
              "\n",
              "  const cancel = document.createElement('button');\n",
              "  inputElement.parentElement.appendChild(cancel);\n",
              "  cancel.textContent = 'Cancel upload';\n",
              "  const cancelPromise = new Promise((resolve) => {\n",
              "    cancel.onclick = () => {\n",
              "      resolve(null);\n",
              "    };\n",
              "  });\n",
              "\n",
              "  // Wait for the user to pick the files.\n",
              "  const files = yield {\n",
              "    promise: Promise.race([pickedPromise, cancelPromise]),\n",
              "    response: {\n",
              "      action: 'starting',\n",
              "    }\n",
              "  };\n",
              "\n",
              "  cancel.remove();\n",
              "\n",
              "  // Disable the input element since further picks are not allowed.\n",
              "  inputElement.disabled = true;\n",
              "\n",
              "  if (!files) {\n",
              "    return {\n",
              "      response: {\n",
              "        action: 'complete',\n",
              "      }\n",
              "    };\n",
              "  }\n",
              "\n",
              "  for (const file of files) {\n",
              "    const li = document.createElement('li');\n",
              "    li.append(span(file.name, {fontWeight: 'bold'}));\n",
              "    li.append(span(\n",
              "        `(${file.type || 'n/a'}) - ${file.size} bytes, ` +\n",
              "        `last modified: ${\n",
              "            file.lastModifiedDate ? file.lastModifiedDate.toLocaleDateString() :\n",
              "                                    'n/a'} - `));\n",
              "    const percent = span('0% done');\n",
              "    li.appendChild(percent);\n",
              "\n",
              "    outputElement.appendChild(li);\n",
              "\n",
              "    const fileDataPromise = new Promise((resolve) => {\n",
              "      const reader = new FileReader();\n",
              "      reader.onload = (e) => {\n",
              "        resolve(e.target.result);\n",
              "      };\n",
              "      reader.readAsArrayBuffer(file);\n",
              "    });\n",
              "    // Wait for the data to be ready.\n",
              "    let fileData = yield {\n",
              "      promise: fileDataPromise,\n",
              "      response: {\n",
              "        action: 'continue',\n",
              "      }\n",
              "    };\n",
              "\n",
              "    // Use a chunked sending to avoid message size limits. See b/62115660.\n",
              "    let position = 0;\n",
              "    do {\n",
              "      const length = Math.min(fileData.byteLength - position, MAX_PAYLOAD_SIZE);\n",
              "      const chunk = new Uint8Array(fileData, position, length);\n",
              "      position += length;\n",
              "\n",
              "      const base64 = btoa(String.fromCharCode.apply(null, chunk));\n",
              "      yield {\n",
              "        response: {\n",
              "          action: 'append',\n",
              "          file: file.name,\n",
              "          data: base64,\n",
              "        },\n",
              "      };\n",
              "\n",
              "      let percentDone = fileData.byteLength === 0 ?\n",
              "          100 :\n",
              "          Math.round((position / fileData.byteLength) * 100);\n",
              "      percent.textContent = `${percentDone}% done`;\n",
              "\n",
              "    } while (position < fileData.byteLength);\n",
              "  }\n",
              "\n",
              "  // All done.\n",
              "  yield {\n",
              "    response: {\n",
              "      action: 'complete',\n",
              "    }\n",
              "  };\n",
              "}\n",
              "\n",
              "scope.google = scope.google || {};\n",
              "scope.google.colab = scope.google.colab || {};\n",
              "scope.google.colab._files = {\n",
              "  _uploadFiles,\n",
              "  _uploadFilesContinue,\n",
              "};\n",
              "})(self);\n",
              "</script> "
            ]
          },
          "metadata": {}
        },
        {
          "output_type": "stream",
          "name": "stdout",
          "text": [
            "Saving processed_data.csv to processed_data.csv\n"
          ]
        }
      ],
      "source": [
        "from google.colab import files\n",
        "\n",
        "uploaded = files.upload()  # Manually upload your CSV file\n"
      ]
    },
    {
      "cell_type": "code",
      "source": [
        "!pip install xgboost\n",
        "\n"
      ],
      "metadata": {
        "colab": {
          "base_uri": "https://localhost:8080/"
        },
        "id": "JvGGbcOvKMat",
        "outputId": "6cf8ad42-785e-4580-d1dd-2e681d3ba9c5"
      },
      "execution_count": null,
      "outputs": [
        {
          "output_type": "stream",
          "name": "stdout",
          "text": [
            "Requirement already satisfied: xgboost in /usr/local/lib/python3.11/dist-packages (2.1.4)\n",
            "Requirement already satisfied: numpy in /usr/local/lib/python3.11/dist-packages (from xgboost) (2.0.2)\n",
            "Requirement already satisfied: nvidia-nccl-cu12 in /usr/local/lib/python3.11/dist-packages (from xgboost) (2.21.5)\n",
            "Requirement already satisfied: scipy in /usr/local/lib/python3.11/dist-packages (from xgboost) (1.14.1)\n"
          ]
        }
      ]
    },
    {
      "cell_type": "markdown",
      "source": [
        "Training the model"
      ],
      "metadata": {
        "id": "dAKw20wFKb7o"
      }
    },
    {
      "cell_type": "code",
      "source": [
        "import pandas as pd\n",
        "import numpy as np\n",
        "from collections import Counter\n",
        "from sklearn.model_selection import train_test_split, StratifiedKFold, cross_val_score\n",
        "from sklearn.preprocessing import LabelEncoder, StandardScaler\n",
        "from sklearn.ensemble import RandomForestClassifier\n",
        "from sklearn.metrics import classification_report, accuracy_score\n",
        "from imblearn.over_sampling import SMOTE\n",
        "\n",
        "# 📌 Load dataset\n",
        "columns = [\"Timestamp\", \"Src_IP\", \"Dst_IP\", \"Src_Port\", \"Dst_Port\", \"Protocol\",\n",
        "           \"Packet_Size\", \"TTL\", \"Flags\", \"Attack_Type\", \"Extra1\", \"Extra2\"]\n",
        "data = pd.read_csv(\"processed_data.csv\", names=columns)\n",
        "\n",
        "# 🚀 Step 1: Drop unnecessary columns (IP addresses & extra info)\n",
        "data.drop([\"Src_IP\", \"Dst_IP\", \"Extra1\", \"Extra2\"], axis=1, inplace=True)\n",
        "\n",
        "# 🚀 Step 2: Convert numeric columns\n",
        "numeric_columns = [\"Timestamp\", \"Packet_Size\", \"TTL\"]\n",
        "for col in numeric_columns:\n",
        "    data[col] = pd.to_numeric(data[col], errors=\"coerce\")  # Convert to numeric\n",
        "\n",
        "# 🚀 Step 3: Encode categorical features\n",
        "label_encoders = {}\n",
        "for col in [\"Flags\", \"Protocol\", \"Src_Port\", \"Dst_Port\"]:\n",
        "    le = LabelEncoder()\n",
        "    data[col] = le.fit_transform(data[col].astype(str))  # Convert to string before encoding\n",
        "    label_encoders[col] = le\n",
        "\n",
        "# 🚀 Step 4: Encode Target Variable (Attack_Type)\n",
        "attack_counts = data[\"Attack_Type\"].value_counts()\n",
        "print(\"\\n🔥 Attack Type Distribution Before Handling Rare Classes:\\n\", attack_counts)\n",
        "\n",
        "# ✅ Handle rare attack types (replace classes with <2 instances)\n",
        "rare_classes = attack_counts[attack_counts < 2].index.tolist()\n",
        "if rare_classes:\n",
        "    print(\"\\n⚠️ Replacing rare classes:\", rare_classes)\n",
        "    data[\"Attack_Type\"] = data[\"Attack_Type\"].replace(rare_classes, \"Other Attack\")\n",
        "\n",
        "# ✅ Re-encode the modified `Attack_Type`\n",
        "attack_encoder = LabelEncoder()\n",
        "data[\"Attack_Type\"] = attack_encoder.fit_transform(data[\"Attack_Type\"])\n",
        "\n",
        "# 🚀 Step 5: Handle NaN values (only for numeric columns)\n",
        "data.fillna(data.mean(), inplace=True)\n",
        "\n",
        "# 🚀 Step 6: Split into X (features) and y (target)\n",
        "X = data.drop(\"Attack_Type\", axis=1)\n",
        "y = data[\"Attack_Type\"]\n",
        "\n",
        "# 🚀 Step 7: Scale numerical features\n",
        "scaler = StandardScaler()\n",
        "X_scaled = scaler.fit_transform(X)\n",
        "\n",
        "# 🚀 Step 8: Handle class imbalance with SMOTE (Fixing Rare Class Issue)\n",
        "min_class_size = min(Counter(y).values())  # Smallest class count\n",
        "smote_neighbors = min(5, min_class_size - 1)  # Ensure `n_neighbors <= n_samples - 1`\n",
        "\n",
        "if min_class_size > 1:  # ✅ Apply SMOTE only if the smallest class has enough samples\n",
        "    smote = SMOTE(sampling_strategy=\"auto\", k_neighbors=smote_neighbors, random_state=42)\n",
        "    X_resampled, y_resampled = smote.fit_resample(X_scaled, y)\n",
        "    print(\"\\n✅ SMOTE Applied - New Class Distribution:\", Counter(y_resampled))\n",
        "else:\n",
        "    print(\"\\n⚠️ SMOTE Skipped - Not enough samples per class.\")\n",
        "    X_resampled, y_resampled = X_scaled, y  # Keep original dataset\n",
        "\n",
        "# 🚀 Step 9: Train-test split\n",
        "X_train, X_test, y_train, y_test = train_test_split(\n",
        "    X_resampled, y_resampled, test_size=0.2, stratify=y_resampled, random_state=42\n",
        ")\n",
        "\n",
        "# ✅ Step 10: Train Optimized Random Forest Model (Prevent Overfitting)\n",
        "rf_model = RandomForestClassifier(\n",
        "    n_estimators=100,\n",
        "    max_depth=8,\n",
        "    min_samples_split=5,\n",
        "    min_samples_leaf=2,\n",
        "    max_features=\"sqrt\",\n",
        "    class_weight=\"balanced\",\n",
        "    random_state=42\n",
        ")\n",
        "\n",
        "# 🚀 Step 11: Cross-Validation to check generalization\n",
        "cv = StratifiedKFold(n_splits=5, shuffle=True, random_state=42)\n",
        "cv_scores = cross_val_score(rf_model, X_train, y_train, cv=cv, scoring=\"accuracy\")\n",
        "print(f\"\\n✅ Cross-Validation Accuracy: {np.mean(cv_scores):.4f} ± {np.std(cv_scores):.4f}\")\n",
        "\n",
        "# 🚀 Step 12: Train the Model\n",
        "rf_model.fit(X_train, y_train)\n",
        "\n",
        "# 🚀 Step 13: Predict & Evaluate\n",
        "y_pred = rf_model.predict(X_test)\n",
        "print(\"\\n🔥 Model Evaluation:\")\n",
        "print(classification_report(y_test, y_pred))\n",
        "\n",
        "# 🚀 Step 14: Feature Importance Analysis\n",
        "feature_importance = pd.DataFrame({\"Feature\": X.columns, \"Importance\": rf_model.feature_importances_})\n",
        "feature_importance = feature_importance.sort_values(by=\"Importance\", ascending=False)\n",
        "print(\"\\n🔍 Top 5 Important Features:\\n\", feature_importance.head(5))\n"
      ],
      "metadata": {
        "colab": {
          "base_uri": "https://localhost:8080/"
        },
        "id": "S5T16n2KKXZX",
        "outputId": "7b1436c2-de82-4967-b2be-841f26ec0c1d"
      },
      "execution_count": null,
      "outputs": [
        {
          "output_type": "stream",
          "name": "stdout",
          "text": [
            "\n",
            "🔥 Attack Type Distribution Before Handling Rare Classes:\n",
            " Attack_Type\n",
            "Brute Force Attack      4986\n",
            "Normal                  3890\n",
            "ICMP Flood              3836\n",
            "Slow Port Scan          1330\n",
            "SQL Injection            483\n",
            "Unusual Port Scan        167\n",
            "UDP Flood                 98\n",
            "Aggressive Port Scan      92\n",
            "SYN Flood                 44\n",
            "Attack_Type                1\n",
            "Nmap SYN Scan              1\n",
            "Name: count, dtype: int64\n",
            "\n",
            "⚠️ Replacing rare classes: ['Attack_Type', 'Nmap SYN Scan']\n",
            "\n",
            "✅ SMOTE Applied - New Class Distribution: Counter({4: 4986, 3: 4986, 6: 4986, 1: 4986, 8: 4986, 2: 4986, 9: 4986, 7: 4986, 0: 4986, 5: 4986})\n",
            "\n",
            "✅ Cross-Validation Accuracy: 0.9359 ± 0.0096\n",
            "\n",
            "🔥 Model Evaluation:\n",
            "              precision    recall  f1-score   support\n",
            "\n",
            "           0       0.99      1.00      1.00       997\n",
            "           1       0.99      1.00      1.00       997\n",
            "           2       1.00      1.00      1.00       997\n",
            "           3       1.00      0.89      0.94       998\n",
            "           4       1.00      1.00      1.00       997\n",
            "           5       0.91      1.00      0.95       997\n",
            "           6       0.96      1.00      0.98       998\n",
            "           7       0.88      0.60      0.72       997\n",
            "           8       0.99      1.00      0.99       997\n",
            "           9       0.68      0.85      0.75       997\n",
            "\n",
            "    accuracy                           0.93      9972\n",
            "   macro avg       0.94      0.93      0.93      9972\n",
            "weighted avg       0.94      0.93      0.93      9972\n",
            "\n",
            "\n",
            "🔍 Top 5 Important Features:\n",
            "        Feature  Importance\n",
            "0    Timestamp    0.305679\n",
            "3     Protocol    0.146678\n",
            "4  Packet_Size    0.141792\n",
            "2     Dst_Port    0.126582\n",
            "1     Src_Port    0.118089\n"
          ]
        }
      ]
    },
    {
      "cell_type": "markdown",
      "source": [],
      "metadata": {
        "id": "4DNuyEi3MHjh"
      }
    },
    {
      "cell_type": "markdown",
      "source": [
        "🔥 Review of the Model Performance\n",
        "✅ Strengths\n",
        "High Overall Accuracy (93.59%)\n",
        "\n",
        "Your model is highly accurate in detecting most attack types.\n",
        "\n",
        "The precision and recall values for most classes are close to 1.00, meaning your model makes very few mistakes.\n",
        "\n",
        "Balanced Class Distribution (After SMOTE)\n",
        "\n",
        "All attack types have equal representation (4,986 instances each), preventing class imbalance issues.\n",
        "\n",
        "Feature Importance Makes Sense\n",
        "\n",
        "Timestamp (30.57%) is the most influential feature, which makes sense for attacks like Port Scans & DoS.\n",
        "\n",
        "Protocol (14.67%) and Packet Size (14.17%) also play key roles, indicating that different attacks might manipulate packet sizes and protocols."
      ],
      "metadata": {
        "id": "j2kU18akRVMr"
      }
    },
    {
      "cell_type": "markdown",
      "source": [
        "⚠️ Areas of Concern & Possible Improvements\n",
        "1️⃣ Class 7 (Unusual Port Scan) has Poor Recall (0.60)\n",
        "Issue: Your model struggles to correctly detect Unusual Port Scan attacks, leading to many false negatives.\n",
        "\n",
        "Fix: Try adjusting class weights or adding synthetic features like \"Port Change Frequency\" to improve detection.\n",
        "\n",
        "2️⃣ Class 9 (SYN Flood) Has Low Precision (0.68)\n",
        "Issue: The model misclassifies other attacks as SYN Flood, leading to false positives.\n",
        "\n",
        "Fix: Increase tree depth (max_depth=12) or add more network-related features (e.g., \"Packet Drop Rate\").\n",
        "\n",
        "3️⃣ Feature Importance is Dominated by Timestamp\n",
        "Issue: If Timestamp is too dominant, it might be overfitting to time-based patterns instead of learning general attack behavior.\n",
        "\n",
        "Fix:\n",
        "\n",
        "Try removing Timestamp and retraining the model to see if performance changes significantly.\n",
        "\n",
        "Use time-based aggregation (e.g., \"Packets per second\") instead of raw timestamps.\n",
        "\n",
        "\n"
      ],
      "metadata": {
        "id": "AcxlaSPfRfCC"
      }
    },
    {
      "cell_type": "markdown",
      "source": [
        "Saving the model\n"
      ],
      "metadata": {
        "id": "lPvD--4SRGKx"
      }
    },
    {
      "cell_type": "code",
      "source": [
        "import joblib\n",
        "\n",
        "# ✅ Save the trained model\n",
        "joblib.dump(rf_model, \"cyber_threat_model.pkl\")\n",
        "print(\"✅ Model saved as cyber_threat_model.pkl\")\n",
        "\n",
        "# ✅ Save the scaler for feature normalization\n",
        "joblib.dump(scaler, \"scaler.pkl\")\n",
        "print(\"✅ Scaler saved as scaler.pkl\")\n",
        "\n",
        "# ✅ Save label encoders for categorical features\n",
        "joblib.dump(label_encoders, \"label_encoders.pkl\")\n",
        "print(\"✅ Label encoders saved as label_encoders.pkl\")\n"
      ],
      "metadata": {
        "colab": {
          "base_uri": "https://localhost:8080/"
        },
        "id": "Dq4Ri3ZSRFbl",
        "outputId": "471b4859-b8fb-4db8-ceaa-b2723d44247e"
      },
      "execution_count": null,
      "outputs": [
        {
          "output_type": "stream",
          "name": "stdout",
          "text": [
            "✅ Model saved as cyber_threat_model.pkl\n",
            "✅ Scaler saved as scaler.pkl\n",
            "✅ Label encoders saved as label_encoders.pkl\n"
          ]
        }
      ]
    },
    {
      "cell_type": "code",
      "source": [
        "import joblib\n",
        "\n",
        "# ✅ Create mapping of encoded attack labels to attack names\n",
        "attack_classes = {i: label for i, label in enumerate(attack_encoder.classes_)}\n",
        "\n",
        "# ✅ Save mapping\n",
        "joblib.dump(attack_classes, \"attack_classes.pkl\")\n",
        "print(\"\\n✅ Attack class mapping saved to attack_classes.pkl\")"
      ],
      "metadata": {
        "id": "0oMKGxQ5YeIW",
        "outputId": "3c64f353-e550-4ba5-957d-f4a999f8e6ab",
        "colab": {
          "base_uri": "https://localhost:8080/"
        }
      },
      "execution_count": null,
      "outputs": [
        {
          "output_type": "stream",
          "name": "stdout",
          "text": [
            "\n",
            "✅ Attack class mapping saved to attack_classes.pkl\n"
          ]
        }
      ]
    }
  ]
}